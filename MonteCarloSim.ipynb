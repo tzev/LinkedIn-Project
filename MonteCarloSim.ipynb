{
  "nbformat": 4,
  "nbformat_minor": 0,
  "metadata": {
    "colab": {
      "name": "MonteCarloSim.ipynb",
      "provenance": [],
      "collapsed_sections": [],
      "authorship_tag": "ABX9TyP2l4zPXnm39EA90uV87k0q",
      "include_colab_link": true
    },
    "kernelspec": {
      "name": "python3",
      "display_name": "Python 3"
    },
    "language_info": {
      "name": "python"
    }
  },
  "cells": [
    {
      "cell_type": "markdown",
      "metadata": {
        "id": "view-in-github",
        "colab_type": "text"
      },
      "source": [
        "<a href=\"https://colab.research.google.com/github/tzev/LinkedIn-Project/blob/main/MonteCarloSim.ipynb\" target=\"_parent\"><img src=\"https://colab.research.google.com/assets/colab-badge.svg\" alt=\"Open In Colab\"/></a>"
      ]
    },
    {
      "cell_type": "code",
      "metadata": {
        "id": "pfUWBYle9LCE"
      },
      "source": [
        "import numpy as np\n",
        "import pandas as pd\n",
        "import matplotlib.pyplot as plt\n",
        "import pandas_datareader as pdr\n",
        "from scipy.stats import norm "
      ],
      "execution_count": null,
      "outputs": []
    },
    {
      "cell_type": "code",
      "metadata": {
        "id": "A4LV2sUa9QQg"
      },
      "source": [
        "def Get_Monte_Carlo(ticker):\n",
        "    data = pd.DataFrame()\n",
        "    data[ticker] = pdr.DataReader(ticker, data_source=\"yahoo\", start=\"2010-1-1\")[\"Adj Close\"]\n",
        "    \n",
        "    log_ret = np.log(1+data.pct_change())\n",
        "    mean = log_ret.mean()\n",
        "    var = log_ret.var()\n",
        "    \n",
        "    drift = mean - (.5 * var)\n",
        "    std_dev = log_ret.std()\n",
        "    \n",
        "    t_intervals = 365\n",
        "    iterations = 10\n",
        "    \n",
        "    daily_ret = np.exp(drift.values + std_dev.values * norm.ppf(np.random.rand(t_intervals, iterations)))\n",
        "    \n",
        "    S0 = data.iloc[-1]\n",
        "    \n",
        "    price_list = np.zeros_like(daily_ret)\n",
        "    price_list[0] = S0\n",
        "    \n",
        "    for t in range(1, t_intervals):\n",
        "        price_list[t] = price_list[t - 1] * daily_ret[t]\n",
        "        \n",
        "    plt.figure(figsize = (10, 6))\n",
        "    plt.title(\"One Year Monte Carlo Simulation for \" + ticker)\n",
        "    plt.ylabel(\"Price in USD\")\n",
        "    plt.xlabel(\"Time in Days\")\n",
        "    plt.plot(price_list)\n",
        "    plt.show()\n"
      ],
      "execution_count": null,
      "outputs": []
    },
    {
      "cell_type": "code",
      "metadata": {
        "id": "25_Rm7VSjRQo"
      },
      "source": [
        "Get_Monte_Carlo(\"aapl\")"
      ],
      "execution_count": null,
      "outputs": []
    }
  ]
}